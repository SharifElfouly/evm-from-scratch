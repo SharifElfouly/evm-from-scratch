{
 "cells": [
  {
   "cell_type": "code",
   "execution_count": 401,
   "id": "d465c2a6",
   "metadata": {},
   "outputs": [],
   "source": [
    "STOP = 0x0\n",
    "\n",
    "ADD = 0x1\n",
    "MUL = 0x2\n",
    "SUB = 0x3\n",
    "DIV = 0x4\n",
    "\n",
    "PUSH1 = 0x60"
   ]
  },
  {
   "cell_type": "code",
   "execution_count": 402,
   "id": "76cd971a",
   "metadata": {},
   "outputs": [],
   "source": [
    "PROGRAM = [0x60, 0x01, 0x60, 0x02, 0x1, 0x60, 0x05, 0x2, 0x0]"
   ]
  },
  {
   "cell_type": "code",
   "execution_count": 403,
   "id": "7ba206bf",
   "metadata": {},
   "outputs": [],
   "source": [
    "class CPU:\n",
    "    def __init__(self):\n",
    "        self.pc = 0\n",
    "        self.stack = []\n",
    "        self.program = []\n",
    "    \n",
    "    def load(self, program):\n",
    "        self.reset()\n",
    "        self.program = program\n",
    "    \n",
    "    def reset(self):\n",
    "        self.pc, self.stack = 0, []\n",
    "    \n",
    "    def peek(self):\n",
    "        return self.program[self.pc + 1]\n",
    "    \n",
    "    def run(self):\n",
    "        op = self.program[self.pc]\n",
    "\n",
    "        while op != STOP:\n",
    "            # ADD\n",
    "            if op == ADD:\n",
    "                self.add()\n",
    "                self.pc += 1\n",
    "            # MUL\n",
    "            if op == MUL:\n",
    "                self.mul()\n",
    "                self.pc += 1\n",
    "            # SUB\n",
    "            if op == SUB:\n",
    "                self.sub()\n",
    "                self.pc += 1\n",
    "             # DIV\n",
    "            if op == DIV:\n",
    "                self.div()\n",
    "                self.pc += 1\n",
    "            # PUSH1\n",
    "            if op == PUSH1:\n",
    "                self.push1()\n",
    "                self.pc += 2\n",
    "            \n",
    "            op = self.program[self.pc]\n",
    "    \n",
    "    def add(self):\n",
    "        a = self.stack.pop()\n",
    "        b = self.stack.pop()\n",
    "        self.stack.append(a + b)\n",
    "    def mul(self):\n",
    "        a = self.stack.pop()\n",
    "        b = self.stack.pop()\n",
    "        self.stack.append(a * b)\n",
    "    def sub(self):\n",
    "        a = self.stack.pop()\n",
    "        b = self.stack.pop()\n",
    "        self.stack.append(a - b)\n",
    "    def div(self):\n",
    "        a = self.stack.pop()\n",
    "        b = self.stack.pop()\n",
    "        self.stack.append(0 if b == 0 else a // b)    \n",
    "        \n",
    "    def push1(self):\n",
    "        self.stack.append(self.peek())"
   ]
  },
  {
   "cell_type": "code",
   "execution_count": 404,
   "id": "7066e624",
   "metadata": {},
   "outputs": [],
   "source": [
    "cpu = CPU()\n",
    "cpu.load(PROGRAM)\n",
    "cpu.run()"
   ]
  },
  {
   "cell_type": "code",
   "execution_count": 405,
   "id": "371a83fd",
   "metadata": {},
   "outputs": [
    {
     "data": {
      "text/plain": [
       "[15]"
      ]
     },
     "execution_count": 405,
     "metadata": {},
     "output_type": "execute_result"
    }
   ],
   "source": [
    "cpu.stack"
   ]
  }
 ],
 "metadata": {
  "kernelspec": {
   "display_name": "Python 3 (ipykernel)",
   "language": "python",
   "name": "python3"
  },
  "language_info": {
   "codemirror_mode": {
    "name": "ipython",
    "version": 3
   },
   "file_extension": ".py",
   "mimetype": "text/x-python",
   "name": "python",
   "nbconvert_exporter": "python",
   "pygments_lexer": "ipython3",
   "version": "3.8.9"
  }
 },
 "nbformat": 4,
 "nbformat_minor": 5
}
