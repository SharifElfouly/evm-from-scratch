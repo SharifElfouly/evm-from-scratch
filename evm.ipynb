{
 "cells": [
  {
   "cell_type": "code",
   "execution_count": 340,
   "id": "d465c2a6",
   "metadata": {},
   "outputs": [],
   "source": [
    "STOP = 0x0\n",
    "\n",
    "ADD = 0x1\n",
    "MUL = 0x2\n",
    "SUB = 0x3\n",
    "\n",
    "PUSH1 = 0x60"
   ]
  },
  {
   "cell_type": "code",
   "execution_count": 362,
   "id": "76cd971a",
   "metadata": {},
   "outputs": [],
   "source": [
    "PC = 0\n",
    "STACK = []\n",
    "P = [0x60, 0x01, 0x60, 0x02, 0x1, 0x0]"
   ]
  },
  {
   "cell_type": "code",
   "execution_count": 363,
   "id": "116ddf63",
   "metadata": {},
   "outputs": [],
   "source": [
    "def reset():\n",
    "    PC = 0\n",
    "    STACK = []\n",
    "    \n",
    "def peek(PC):\n",
    "    return P[PC + 1]"
   ]
  },
  {
   "cell_type": "code",
   "execution_count": 364,
   "id": "4f1041b3",
   "metadata": {},
   "outputs": [],
   "source": [
    "def push(data):\n",
    "    STACK.append(data)\n",
    "    \n",
    "def add():\n",
    "    a = STACK.pop()\n",
    "    b = STACK.pop()\n",
    "    STACK.append(a + b)"
   ]
  },
  {
   "cell_type": "code",
   "execution_count": 365,
   "id": "c05e2111",
   "metadata": {},
   "outputs": [
    {
     "name": "stdout",
     "output_type": "stream",
     "text": [
      "[3]\n"
     ]
    }
   ],
   "source": [
    "STACK = []\n",
    "PC = 0\n",
    "\n",
    "def run(PC):\n",
    "    OP = P[PC]\n",
    "    \n",
    "    while OP != STOP: \n",
    "        if OP == PUSH1:\n",
    "            push(peek(PC))\n",
    "            PC += 2\n",
    "        if OP == ADD:\n",
    "            add()\n",
    "            PC += 1\n",
    "        \n",
    "        OP = P[PC]\n",
    "        \n",
    "\n",
    "run(PC)\n",
    "print(STACK)"
   ]
  }
 ],
 "metadata": {
  "kernelspec": {
   "display_name": "Python 3 (ipykernel)",
   "language": "python",
   "name": "python3"
  },
  "language_info": {
   "codemirror_mode": {
    "name": "ipython",
    "version": 3
   },
   "file_extension": ".py",
   "mimetype": "text/x-python",
   "name": "python",
   "nbconvert_exporter": "python",
   "pygments_lexer": "ipython3",
   "version": "3.8.9"
  }
 },
 "nbformat": 4,
 "nbformat_minor": 5
}
