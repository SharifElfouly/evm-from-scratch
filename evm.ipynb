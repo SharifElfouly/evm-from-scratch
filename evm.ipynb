{
 "cells": [
  {
   "cell_type": "code",
   "execution_count": 49,
   "id": "d465c2a6",
   "metadata": {},
   "outputs": [],
   "source": [
    "STOP = 0x0\n",
    "\n",
    "ADD = 0x1\n",
    "MUL = 0x2\n",
    "SUB = 0x3\n",
    "DIV = 0x4\n",
    "SDIV = 0x5\n",
    "MOD = 0x6\n",
    "SMOD = 0x7\n",
    "ADDMOD = 0x8\n",
    "\n",
    "PUSH1 = 0x60"
   ]
  },
  {
   "cell_type": "code",
   "execution_count": 17,
   "id": "76cd971a",
   "metadata": {},
   "outputs": [],
   "source": [
    "PROGRAM = [0x60, 0x01, 0x60, 0x02, 0x5, 0x60, 0x05, 0x2, 0x0]"
   ]
  },
  {
   "cell_type": "code",
   "execution_count": 35,
   "id": "e6bcb924",
   "metadata": {},
   "outputs": [],
   "source": [
    "def twos_comp(val, bits=256):\n",
    "    if (val & (1 << (bits - 1))) != 0: # if sign bit is set e.g., 8bit: 128-255\n",
    "        val = val - (1 << bits)        # compute negative value\n",
    "    return val  "
   ]
  },
  {
   "cell_type": "code",
   "execution_count": 19,
   "id": "7ba206bf",
   "metadata": {},
   "outputs": [],
   "source": [
    "class CPU:\n",
    "    def __init__(self):\n",
    "        self.pc = 0\n",
    "        self.stack = []\n",
    "        self.program = []\n",
    "    \n",
    "    def load(self, program):\n",
    "        self.reset()\n",
    "        self.program = program\n",
    "    \n",
    "    def reset(self):\n",
    "        self.pc, self.stack = 0, []\n",
    "    \n",
    "    def peek(self):\n",
    "        return self.program[self.pc + 1]\n",
    "    \n",
    "    def run(self):\n",
    "        op = self.program[self.pc]\n",
    "\n",
    "        while op != STOP:\n",
    "            # ADD\n",
    "            # TODO: check for overflow\n",
    "            if op == ADD:\n",
    "                self.add()\n",
    "                self.pc += 1\n",
    "            # MUL\n",
    "            if op == MUL:\n",
    "                self.mul()\n",
    "                self.pc += 1\n",
    "            # SUB\n",
    "            # TODO: check for underflow\n",
    "            if op == SUB:\n",
    "                self.sub()\n",
    "                self.pc += 1\n",
    "            # DIV\n",
    "            if op == DIV:\n",
    "                self.div()\n",
    "                self.pc += 1\n",
    "            # SDIV\n",
    "            if op == SDIV:\n",
    "                self.sdiv()\n",
    "                self.pc += 1\n",
    "            # MOD\n",
    "            if op == MOD:\n",
    "                self.mod()\n",
    "                self.pc += 1\n",
    "            # SMOD\n",
    "            if op == SMOD:\n",
    "                self.smod()\n",
    "                self.pc += 1\n",
    "            # ADDMOD\n",
    "            if op == ADDMOD:\n",
    "                self.addmod()\n",
    "                self.pc += 1\n",
    "            # PUSH1\n",
    "            if op == PUSH1:\n",
    "                self.push1()\n",
    "                self.pc += 2\n",
    "            \n",
    "            op = self.program[self.pc]\n",
    "    \n",
    "    def add(self):\n",
    "        a = self.stack.pop()\n",
    "        b = self.stack.pop()\n",
    "        self.stack.append(a + b)\n",
    "    def mul(self):\n",
    "        a = self.stack.pop()\n",
    "        b = self.stack.pop()\n",
    "        self.stack.append(a * b)\n",
    "    def sub(self):\n",
    "        a = self.stack.pop()\n",
    "        b = self.stack.pop()\n",
    "        self.stack.append(a - b)\n",
    "    def div(self):\n",
    "        a = self.stack.pop()\n",
    "        b = self.stack.pop()\n",
    "        self.stack.append(0 if b == 0 else a // b)    \n",
    "    def sdiv(self):\n",
    "        a = twos_comp(self.stack.pop())\n",
    "        b = twos_comp(self.stack.pop())\n",
    "        self.stack.append(0 if b == 0 else a // b)\n",
    "    def mod(self):\n",
    "        a = self.stack.pop()\n",
    "        b = self.stack.pop()\n",
    "        self.stack.append(0 if b == 0 else a % b)\n",
    "    def smod(self):\n",
    "        a = twos_comp(self.stack.pop())\n",
    "        b = twos_comp(self.stack.pop())\n",
    "        self.stack.append(0 if b == 0 else a % b)\n",
    "    def addmod(self):\n",
    "        a = self.stack.pop()\n",
    "        b = self.stack.pop()\n",
    "        N = self.stack.pop()\n",
    "        self.stack.append((a + b) % N)\n",
    "        \n",
    "    def push1(self):\n",
    "        self.stack.append(self.peek())"
   ]
  },
  {
   "cell_type": "code",
   "execution_count": 20,
   "id": "7066e624",
   "metadata": {},
   "outputs": [],
   "source": [
    "cpu = CPU()\n",
    "cpu.load(PROGRAM)\n",
    "cpu.run()"
   ]
  },
  {
   "cell_type": "code",
   "execution_count": 25,
   "id": "371a83fd",
   "metadata": {},
   "outputs": [
    {
     "data": {
      "text/plain": [
       "[10]"
      ]
     },
     "execution_count": 25,
     "metadata": {},
     "output_type": "execute_result"
    }
   ],
   "source": [
    "cpu.stack"
   ]
  }
 ],
 "metadata": {
  "kernelspec": {
   "display_name": "Python 3 (ipykernel)",
   "language": "python",
   "name": "python3"
  },
  "language_info": {
   "codemirror_mode": {
    "name": "ipython",
    "version": 3
   },
   "file_extension": ".py",
   "mimetype": "text/x-python",
   "name": "python",
   "nbconvert_exporter": "python",
   "pygments_lexer": "ipython3",
   "version": "3.8.9"
  }
 },
 "nbformat": 4,
 "nbformat_minor": 5
}
