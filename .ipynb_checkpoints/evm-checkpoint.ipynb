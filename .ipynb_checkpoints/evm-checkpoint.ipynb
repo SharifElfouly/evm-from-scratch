{
 "cells": [
  {
   "cell_type": "code",
   "execution_count": 206,
   "id": "5eb0009a",
   "metadata": {},
   "outputs": [],
   "source": [
    "OPS = {\n",
    "    \"ADD\": \"01\",\n",
    "    \"MUL\": \"02\",\n",
    "    \"SUB\": \"03\",\n",
    "    \"PUSH1\": \"60\",\n",
    "}"
   ]
  },
  {
   "cell_type": "code",
   "execution_count": 207,
   "id": "76cd971a",
   "metadata": {},
   "outputs": [],
   "source": [
    "PC = 0\n",
    "STACK = []\n",
    "P = [\"60\", \"01\", \"60\", \"02\", \"01\", \"00\"]"
   ]
  },
  {
   "cell_type": "code",
   "execution_count": 208,
   "id": "116ddf63",
   "metadata": {},
   "outputs": [],
   "source": [
    "def reset():\n",
    "    PC = 0\n",
    "    STACK = []"
   ]
  },
  {
   "cell_type": "code",
   "execution_count": 209,
   "id": "bb0b6fb6",
   "metadata": {},
   "outputs": [],
   "source": [
    "def peek():\n",
    "    return P[PC + 1]"
   ]
  },
  {
   "cell_type": "code",
   "execution_count": 210,
   "id": "25fa8835",
   "metadata": {},
   "outputs": [],
   "source": [
    "def PUSH(data):\n",
    "    STACK.append(data)"
   ]
  },
  {
   "cell_type": "code",
   "execution_count": 236,
   "id": "4f1041b3",
   "metadata": {},
   "outputs": [],
   "source": [
    "def ADD():\n",
    "    a = STACK.pop()\n",
    "    b = STACK.pop()\n",
    "    STACK.append(hex(int(a, 16) + int(b, 16)))"
   ]
  },
  {
   "cell_type": "code",
   "execution_count": 240,
   "id": "c05e2111",
   "metadata": {},
   "outputs": [
    {
     "name": "stdout",
     "output_type": "stream",
     "text": [
      "['0x2']\n"
     ]
    }
   ],
   "source": [
    "def run(PC):\n",
    "    OP = P[PC]\n",
    "    \n",
    "    while OP != \"00\":        \n",
    "        if OP == \"60\":\n",
    "            PUSH(peek())\n",
    "            PC += 2\n",
    "        if OP == \"01\":\n",
    "            ADD()\n",
    "            PC += 1\n",
    "        \n",
    "        OP = P[PC]\n",
    "\n",
    "reset()\n",
    "run(PC)\n",
    "print(STACK)"
   ]
  },
  {
   "cell_type": "code",
   "execution_count": 239,
   "id": "8f262e81",
   "metadata": {},
   "outputs": [],
   "source": [
    "STACK = []"
   ]
  },
  {
   "cell_type": "code",
   "execution_count": 238,
   "id": "c1f9c696",
   "metadata": {},
   "outputs": [
    {
     "data": {
      "text/plain": [
       "255"
      ]
     },
     "execution_count": 238,
     "metadata": {},
     "output_type": "execute_result"
    }
   ],
   "source": [
    "int(\"FF\", 16)"
   ]
  }
 ],
 "metadata": {
  "kernelspec": {
   "display_name": "Python 3 (ipykernel)",
   "language": "python",
   "name": "python3"
  },
  "language_info": {
   "codemirror_mode": {
    "name": "ipython",
    "version": 3
   },
   "file_extension": ".py",
   "mimetype": "text/x-python",
   "name": "python",
   "nbconvert_exporter": "python",
   "pygments_lexer": "ipython3",
   "version": "3.8.9"
  }
 },
 "nbformat": 4,
 "nbformat_minor": 5
}
